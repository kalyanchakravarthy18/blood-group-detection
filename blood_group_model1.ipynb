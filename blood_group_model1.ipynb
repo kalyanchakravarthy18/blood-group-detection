{
  "nbformat": 4,
  "nbformat_minor": 0,
  "metadata": {
    "colab": {
      "provenance": [],
      "include_colab_link": true
    },
    "kernelspec": {
      "name": "python3",
      "display_name": "Python 3"
    },
    "language_info": {
      "name": "python"
    }
  },
  "cells": [
    {
      "cell_type": "markdown",
      "metadata": {
        "id": "view-in-github",
        "colab_type": "text"
      },
      "source": [
        "<a href=\"https://colab.research.google.com/github/kalyanchakravarthy18/blood-group-detection/blob/main/blood_group_model1.ipynb\" target=\"_parent\"><img src=\"https://colab.research.google.com/assets/colab-badge.svg\" alt=\"Open In Colab\"/></a>"
      ]
    },
    {
      "cell_type": "code",
      "execution_count": null,
      "metadata": {
        "colab": {
          "base_uri": "https://localhost:8080/"
        },
        "id": "u1QHt9Ufj-GN",
        "outputId": "e6d5d64a-1160-45d6-a94c-89e433fdbf32"
      },
      "outputs": [
        {
          "output_type": "stream",
          "name": "stdout",
          "text": [
            "Drive already mounted at /content/drive; to attempt to forcibly remount, call drive.mount(\"/content/drive\", force_remount=True).\n"
          ]
        },
        {
          "output_type": "stream",
          "name": "stderr",
          "text": [
            "/usr/local/lib/python3.10/dist-packages/keras/src/layers/convolutional/base_conv.py:107: UserWarning: Do not pass an `input_shape`/`input_dim` argument to a layer. When using Sequential models, prefer using an `Input(shape)` object as the first layer in the model instead.\n",
            "  super().__init__(activity_regularizer=activity_regularizer, **kwargs)\n"
          ]
        },
        {
          "output_type": "stream",
          "name": "stdout",
          "text": [
            "Epoch 1/10\n"
          ]
        },
        {
          "output_type": "stream",
          "name": "stderr",
          "text": [
            "/usr/local/lib/python3.10/dist-packages/keras/src/trainers/data_adapters/py_dataset_adapter.py:122: UserWarning: Your `PyDataset` class should call `super().__init__(**kwargs)` in its constructor. `**kwargs` can include `workers`, `use_multiprocessing`, `max_queue_size`. Do not pass these arguments to `fit()`, as they will be ignored.\n",
            "  self._warn_if_super_not_called()\n"
          ]
        },
        {
          "output_type": "stream",
          "name": "stdout",
          "text": [
            "\u001b[1m151/151\u001b[0m \u001b[32m━━━━━━━━━━━━━━━━━━━━\u001b[0m\u001b[37m\u001b[0m \u001b[1m161s\u001b[0m 1s/step - accuracy: 0.2237 - loss: 1.9541 - val_accuracy: 0.6753 - val_loss: 0.9445\n",
            "Epoch 2/10\n",
            "\u001b[1m151/151\u001b[0m \u001b[32m━━━━━━━━━━━━━━━━━━━━\u001b[0m\u001b[37m\u001b[0m \u001b[1m209s\u001b[0m 1s/step - accuracy: 0.4882 - loss: 1.3504 - val_accuracy: 0.7560 - val_loss: 0.6678\n",
            "Epoch 3/10\n",
            "\u001b[1m151/151\u001b[0m \u001b[32m━━━━━━━━━━━━━━━━━━━━\u001b[0m\u001b[37m\u001b[0m \u001b[1m170s\u001b[0m 1s/step - accuracy: 0.5684 - loss: 1.1241 - val_accuracy: 0.7086 - val_loss: 0.7206\n",
            "Epoch 4/10\n",
            "\u001b[1m151/151\u001b[0m \u001b[32m━━━━━━━━━━━━━━━━━━━━\u001b[0m\u001b[37m\u001b[0m \u001b[1m199s\u001b[0m 1s/step - accuracy: 0.6250 - loss: 1.0017 - val_accuracy: 0.7152 - val_loss: 0.7282\n",
            "Epoch 5/10\n",
            "\u001b[1m151/151\u001b[0m \u001b[32m━━━━━━━━━━━━━━━━━━━━\u001b[0m\u001b[37m\u001b[0m \u001b[1m173s\u001b[0m 1s/step - accuracy: 0.6576 - loss: 0.9241 - val_accuracy: 0.7619 - val_loss: 0.6229\n",
            "Epoch 6/10\n",
            "\u001b[1m151/151\u001b[0m \u001b[32m━━━━━━━━━━━━━━━━━━━━\u001b[0m\u001b[37m\u001b[0m \u001b[1m170s\u001b[0m 1s/step - accuracy: 0.6686 - loss: 0.8799 - val_accuracy: 0.8018 - val_loss: 0.5857\n",
            "Epoch 7/10\n",
            "\u001b[1m151/151\u001b[0m \u001b[32m━━━━━━━━━━━━━━━━━━━━\u001b[0m\u001b[37m\u001b[0m \u001b[1m185s\u001b[0m 1s/step - accuracy: 0.6794 - loss: 0.8547 - val_accuracy: 0.8451 - val_loss: 0.4310\n",
            "Epoch 8/10\n",
            "\u001b[1m151/151\u001b[0m \u001b[32m━━━━━━━━━━━━━━━━━━━━\u001b[0m\u001b[37m\u001b[0m \u001b[1m202s\u001b[0m 1s/step - accuracy: 0.6903 - loss: 0.8627 - val_accuracy: 0.8368 - val_loss: 0.4314\n",
            "Epoch 9/10\n",
            "\u001b[1m151/151\u001b[0m \u001b[32m━━━━━━━━━━━━━━━━━━━━\u001b[0m\u001b[37m\u001b[0m \u001b[1m190s\u001b[0m 1s/step - accuracy: 0.7057 - loss: 0.7810 - val_accuracy: 0.8218 - val_loss: 0.4502\n",
            "Epoch 10/10\n",
            "\u001b[1m151/151\u001b[0m \u001b[32m━━━━━━━━━━━━━━━━━━━━\u001b[0m\u001b[37m\u001b[0m \u001b[1m174s\u001b[0m 1s/step - accuracy: 0.7120 - loss: 0.7529 - val_accuracy: 0.8093 - val_loss: 0.4881\n",
            "\u001b[1m38/38\u001b[0m \u001b[32m━━━━━━━━━━━━━━━━━━━━\u001b[0m\u001b[37m\u001b[0m \u001b[1m12s\u001b[0m 302ms/step\n",
            "Accuracy: 0.8093255620316403\n",
            "Classification Report:\n",
            "               precision    recall  f1-score   support\n",
            "\n",
            "          A+       0.80      0.97      0.87       115\n",
            "          A-       0.65      0.88      0.75       210\n",
            "         AB+       0.85      0.88      0.86       161\n",
            "         AB-       0.97      0.66      0.79       137\n",
            "          B+       0.97      0.68      0.80       130\n",
            "          B-       0.83      0.76      0.79       132\n",
            "          O+       0.79      0.86      0.82       170\n",
            "          O-       0.91      0.74      0.82       146\n",
            "\n",
            "    accuracy                           0.81      1201\n",
            "   macro avg       0.84      0.80      0.81      1201\n",
            "weighted avg       0.83      0.81      0.81      1201\n",
            "\n"
          ]
        }
      ],
      "source": [
        "# Import necessary libraries\n",
        "import numpy as np\n",
        "import cv2\n",
        "import os\n",
        "from tensorflow.keras.models import Sequential\n",
        "from tensorflow.keras.layers import Conv2D, MaxPooling2D, Flatten, Dense, Dropout\n",
        "from tensorflow.keras.preprocessing.image import ImageDataGenerator\n",
        "from sklearn.model_selection import train_test_split\n",
        "from sklearn.metrics import classification_report, accuracy_score\n",
        "from tensorflow.keras.utils import to_categorical\n",
        "from google.colab import drive\n",
        "\n",
        "# Mount Google Drive to access dataset\n",
        "drive.mount('/content/drive')\n",
        "\n",
        "# Set dataset path\n",
        "dataset_path = '/content/drive/MyDrive/fingerprints'\n",
        "\n",
        "# Load images and labels from the dataset\n",
        "def load_images_and_labels(dataset_path):\n",
        "    images = []\n",
        "    labels = []\n",
        "    for label in os.listdir(dataset_path):\n",
        "        label_dir = os.path.join(dataset_path, label)\n",
        "        if os.path.isdir(label_dir):  # Check if it’s a directory\n",
        "            for image_file in os.listdir(label_dir):\n",
        "                img_path = os.path.join(label_dir, image_file)\n",
        "                img = cv2.imread(img_path, cv2.IMREAD_GRAYSCALE)\n",
        "                if img is not None:\n",
        "                    img = cv2.resize(img, (128, 128))  # Resize to 128x128 pixels\n",
        "                    images.append(img)\n",
        "                    labels.append(label)  # Use folder name as label\n",
        "    return np.array(images), np.array(labels)\n",
        "\n",
        "# Load and preprocess the dataset\n",
        "X, y = load_images_and_labels(dataset_path)\n",
        "X = X / 255.0  # Normalize the pixel values\n",
        "X = X.reshape(-1, 128, 128, 1)  # Add channel dimension\n",
        "\n",
        "# Encode labels into categorical format\n",
        "label_mapping = {label: idx for idx, label in enumerate(np.unique(y))}\n",
        "y_encoded = np.array([label_mapping[label] for label in y])\n",
        "y_categorical = to_categorical(y_encoded)\n",
        "\n",
        "# Split the dataset into training and testing sets\n",
        "X_train, X_test, y_train, y_test = train_test_split(X, y_categorical, test_size=0.2, random_state=42)\n",
        "\n",
        "# Define a simple CNN model\n",
        "model = Sequential([\n",
        "    Conv2D(32, (3, 3), activation='relu', input_shape=(128, 128, 1)),\n",
        "    MaxPooling2D((2, 2)),\n",
        "    Conv2D(64, (3, 3), activation='relu'),\n",
        "    MaxPooling2D((2, 2)),\n",
        "    Conv2D(128, (3, 3), activation='relu'),\n",
        "    MaxPooling2D((2, 2)),\n",
        "    Flatten(),\n",
        "    Dense(128, activation='relu'),\n",
        "    Dropout(0.5),\n",
        "    Dense(len(label_mapping), activation='softmax')\n",
        "])\n",
        "\n",
        "# Compile the model\n",
        "model.compile(optimizer='adam', loss='categorical_crossentropy', metrics=['accuracy'])\n",
        "\n",
        "# Data augmentation\n",
        "datagen = ImageDataGenerator(rotation_range=10, zoom_range=0.1, width_shift_range=0.1, height_shift_range=0.1)\n",
        "datagen.fit(X_train)\n",
        "\n",
        "# Train the model\n",
        "model.fit(datagen.flow(X_train, y_train, batch_size=32), validation_data=(X_test, y_test), epochs=10)\n",
        "\n",
        "# Evaluate the model\n",
        "y_pred = np.argmax(model.predict(X_test), axis=1)\n",
        "y_true = np.argmax(y_test, axis=1)\n",
        "print(\"Accuracy:\", accuracy_score(y_true, y_pred))\n",
        "print(\"Classification Report:\\n\", classification_report(y_true, y_pred, target_names=label_mapping.keys()))\n",
        "\n",
        "# Function to predict blood group from a new fingerprint image\n",
        "def predict_blood_group(image_path):\n",
        "    img = cv2.imread(image_path, cv2.IMREAD_GRAYSCALE)\n",
        "    img = cv2.resize(img, (128, 128)) / 255.0\n",
        "    img = img.reshape(1, 128, 128, 1)\n",
        "    prediction = np.argmax(model.predict(img), axis=1)[0]\n",
        "    blood_group = [key for key, value in label_mapping.items() if value == prediction][0]\n",
        "    return blood_group\n",
        "\n",
        "\n"
      ]
    },
    {
      "cell_type": "code",
      "source": [
        "from tensorflow.keras.models import load_model"
      ],
      "metadata": {
        "id": "hP7cnZXrme_J"
      },
      "execution_count": null,
      "outputs": []
    },
    {
      "cell_type": "code",
      "source": [
        "# Test prediction with a sample image\n",
        "sample_image_path = '/content/drive/MyDrive/fingerprints/A-.BMP'  # Replace with path to your test image\n",
        "try:\n",
        "    print(\"Predicted Blood Group:\", predict_blood_group(sample_image_path))\n",
        "except ValueError as e:\n",
        "    print(e)\n"
      ],
      "metadata": {
        "colab": {
          "base_uri": "https://localhost:8080/"
        },
        "id": "x1WFjmxCml21",
        "outputId": "536274df-4f89-4ef5-95e8-06e80f50153f"
      },
      "execution_count": null,
      "outputs": [
        {
          "output_type": "stream",
          "name": "stdout",
          "text": [
            "\u001b[1m1/1\u001b[0m \u001b[32m━━━━━━━━━━━━━━━━━━━━\u001b[0m\u001b[37m\u001b[0m \u001b[1m0s\u001b[0m 29ms/step\n",
            "Predicted Blood Group: A-\n"
          ]
        }
      ]
    },
    {
      "cell_type": "code",
      "source": [
        "model.save('/content/drive/MyDrive/bloodgroup detection/detection/bloodgroup.keras')"
      ],
      "metadata": {
        "id": "VdktqPqIXXFc"
      },
      "execution_count": null,
      "outputs": []
    }
  ]
}